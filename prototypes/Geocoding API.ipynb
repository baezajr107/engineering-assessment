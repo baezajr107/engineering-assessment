{
 "cells": [
  {
   "cell_type": "code",
   "execution_count": 1,
   "id": "5aec3935",
   "metadata": {},
   "outputs": [],
   "source": [
    "import base64\n",
    "import json\n",
    "import requests\n",
    "from datetime import datetime\n",
    "from datetime import timedelta"
   ]
  },
  {
   "cell_type": "code",
   "execution_count": 12,
   "id": "0fb7ee6d",
   "metadata": {},
   "outputs": [
    {
     "name": "stdout",
     "output_type": "stream",
     "text": [
      "{'results': [{'address_components': [{'long_name': '1600', 'short_name': '1600', 'types': ['street_number']}, {'long_name': 'Amphitheatre Parkway', 'short_name': 'Amphitheatre Pkwy', 'types': ['route']}, {'long_name': 'Mountain View', 'short_name': 'Mountain View', 'types': ['locality', 'political']}, {'long_name': 'Santa Clara County', 'short_name': 'Santa Clara County', 'types': ['administrative_area_level_2', 'political']}, {'long_name': 'California', 'short_name': 'CA', 'types': ['administrative_area_level_1', 'political']}, {'long_name': 'United States', 'short_name': 'US', 'types': ['country', 'political']}, {'long_name': '94043', 'short_name': '94043', 'types': ['postal_code']}, {'long_name': '1351', 'short_name': '1351', 'types': ['postal_code_suffix']}], 'formatted_address': '1600 Amphitheatre Pkwy, Mountain View, CA 94043, USA', 'geometry': {'location': {'lat': 37.4232438, 'lng': -122.0847722}, 'location_type': 'ROOFTOP', 'viewport': {'northeast': {'lat': 37.4245927802915, 'lng': -122.0834232197085}, 'southwest': {'lat': 37.42189481970851, 'lng': -122.0861211802915}}}, 'place_id': 'ChIJ4T7NQra3j4AR24JCejMc_go', 'plus_code': {'compound_code': 'CWF8+73 Mountain View, CA', 'global_code': '849VCWF8+73'}, 'types': ['street_address']}], 'status': 'OK'}\n"
     ]
    }
   ],
   "source": [
    "# Get base data from the REST API\n",
    "key = ''\n",
    "api_url = 'https://maps.googleapis.com/maps/api/geocode/json?address=1600+Amphitheatre+Parkway,+Mountain+View,+CA&key='+key\n",
    "\n",
    "try:\n",
    "\n",
    "    api_response = requests.get(api_url)\n",
    "    response_data = api_response.json()\n",
    "\n",
    "\n",
    "except:\n",
    "    print(api_response)\n",
    "\n",
    "print(response_data)"
   ]
  },
  {
   "cell_type": "code",
   "execution_count": 10,
   "id": "8ef6febf",
   "metadata": {},
   "outputs": [
    {
     "data": {
      "text/plain": [
       "{'lat': 37.4232438, 'lng': -122.0847722}"
      ]
     },
     "execution_count": 10,
     "metadata": {},
     "output_type": "execute_result"
    }
   ],
   "source": [
    "response_data['results'][0]['geometry']['location']"
   ]
  },
  {
   "cell_type": "code",
   "execution_count": null,
   "id": "108a1756",
   "metadata": {},
   "outputs": [],
   "source": []
  }
 ],
 "metadata": {
  "kernelspec": {
   "display_name": "Python 3 (ipykernel)",
   "language": "python",
   "name": "python3"
  },
  "language_info": {
   "codemirror_mode": {
    "name": "ipython",
    "version": 3
   },
   "file_extension": ".py",
   "mimetype": "text/x-python",
   "name": "python",
   "nbconvert_exporter": "python",
   "pygments_lexer": "ipython3",
   "version": "3.10.12"
  }
 },
 "nbformat": 4,
 "nbformat_minor": 5
}
